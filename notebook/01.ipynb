{
 "cells": [
  {
   "cell_type": "code",
   "execution_count": 14,
   "metadata": {},
   "outputs": [],
   "source": [
    "import numpy as np\n",
    "import pandas as pd\n",
    "import matplotlib.pyplot as plt\n",
    "import matplotlib as mpl\n",
    "import tensorflow as tf\n",
    "from keras.models import Sequential\n",
    "from keras.layers import Dense,Flatten,LSTM,Dropout"
   ]
  },
  {
   "cell_type": "code",
   "execution_count": 15,
   "metadata": {},
   "outputs": [],
   "source": [
    "#matplotlib inline\n",
    "plt.rcParams['figure.figsize'] = 16,6\n",
    "plt.rcParams['xtick.color'] = 'w'  \n",
    "plt.rcParams['ytick.color'] = 'w'  \n",
    "mpl.style.use('ggplot')"
   ]
  },
  {
   "cell_type": "markdown",
   "metadata": {},
   "source": [
    "## 数据导入和处理"
   ]
  },
  {
   "cell_type": "code",
   "execution_count": 16,
   "metadata": {},
   "outputs": [],
   "source": [
    "train_df_path = r'../data/processed_data/train_df.csv'\n",
    "test_df_path = r'../data/processed_data/test_df.csv'"
   ]
  },
  {
   "cell_type": "code",
   "execution_count": 17,
   "metadata": {},
   "outputs": [],
   "source": [
    "train_df = pd.read_csv(train_df_path)\n",
    "test_df = pd.read_csv(test_df_path)"
   ]
  },
  {
   "cell_type": "code",
   "execution_count": 18,
   "metadata": {},
   "outputs": [
    {
     "data": {
      "text/html": [
       "<div>\n",
       "<style scoped>\n",
       "    .dataframe tbody tr th:only-of-type {\n",
       "        vertical-align: middle;\n",
       "    }\n",
       "\n",
       "    .dataframe tbody tr th {\n",
       "        vertical-align: top;\n",
       "    }\n",
       "\n",
       "    .dataframe thead th {\n",
       "        text-align: right;\n",
       "    }\n",
       "</style>\n",
       "<table border=\"1\" class=\"dataframe\">\n",
       "  <thead>\n",
       "    <tr style=\"text-align: right;\">\n",
       "      <th></th>\n",
       "      <th>Unnamed: 0</th>\n",
       "      <th>id</th>\n",
       "      <th>cycle</th>\n",
       "      <th>setting1</th>\n",
       "      <th>setting2</th>\n",
       "      <th>setting3</th>\n",
       "      <th>s1</th>\n",
       "      <th>s2</th>\n",
       "      <th>s3</th>\n",
       "      <th>s4</th>\n",
       "      <th>...</th>\n",
       "      <th>s14</th>\n",
       "      <th>s15</th>\n",
       "      <th>s16</th>\n",
       "      <th>s17</th>\n",
       "      <th>s18</th>\n",
       "      <th>s19</th>\n",
       "      <th>s20</th>\n",
       "      <th>s21</th>\n",
       "      <th>RUL</th>\n",
       "      <th>cycle_norm</th>\n",
       "    </tr>\n",
       "  </thead>\n",
       "  <tbody>\n",
       "    <tr>\n",
       "      <th>0</th>\n",
       "      <td>0</td>\n",
       "      <td>1</td>\n",
       "      <td>1</td>\n",
       "      <td>0.459770</td>\n",
       "      <td>0.166667</td>\n",
       "      <td>0.0</td>\n",
       "      <td>0.0</td>\n",
       "      <td>0.183735</td>\n",
       "      <td>0.406802</td>\n",
       "      <td>0.309757</td>\n",
       "      <td>...</td>\n",
       "      <td>0.199608</td>\n",
       "      <td>0.363986</td>\n",
       "      <td>0.0</td>\n",
       "      <td>0.333333</td>\n",
       "      <td>0.0</td>\n",
       "      <td>0.0</td>\n",
       "      <td>0.713178</td>\n",
       "      <td>0.724662</td>\n",
       "      <td>130</td>\n",
       "      <td>0.00000</td>\n",
       "    </tr>\n",
       "    <tr>\n",
       "      <th>1</th>\n",
       "      <td>1</td>\n",
       "      <td>1</td>\n",
       "      <td>2</td>\n",
       "      <td>0.609195</td>\n",
       "      <td>0.250000</td>\n",
       "      <td>0.0</td>\n",
       "      <td>0.0</td>\n",
       "      <td>0.283133</td>\n",
       "      <td>0.453019</td>\n",
       "      <td>0.352633</td>\n",
       "      <td>...</td>\n",
       "      <td>0.162813</td>\n",
       "      <td>0.411312</td>\n",
       "      <td>0.0</td>\n",
       "      <td>0.333333</td>\n",
       "      <td>0.0</td>\n",
       "      <td>0.0</td>\n",
       "      <td>0.666667</td>\n",
       "      <td>0.731014</td>\n",
       "      <td>130</td>\n",
       "      <td>0.00277</td>\n",
       "    </tr>\n",
       "    <tr>\n",
       "      <th>2</th>\n",
       "      <td>2</td>\n",
       "      <td>1</td>\n",
       "      <td>3</td>\n",
       "      <td>0.252874</td>\n",
       "      <td>0.750000</td>\n",
       "      <td>0.0</td>\n",
       "      <td>0.0</td>\n",
       "      <td>0.343373</td>\n",
       "      <td>0.369523</td>\n",
       "      <td>0.370527</td>\n",
       "      <td>...</td>\n",
       "      <td>0.171793</td>\n",
       "      <td>0.357445</td>\n",
       "      <td>0.0</td>\n",
       "      <td>0.166667</td>\n",
       "      <td>0.0</td>\n",
       "      <td>0.0</td>\n",
       "      <td>0.627907</td>\n",
       "      <td>0.621375</td>\n",
       "      <td>130</td>\n",
       "      <td>0.00554</td>\n",
       "    </tr>\n",
       "    <tr>\n",
       "      <th>3</th>\n",
       "      <td>3</td>\n",
       "      <td>1</td>\n",
       "      <td>4</td>\n",
       "      <td>0.540230</td>\n",
       "      <td>0.500000</td>\n",
       "      <td>0.0</td>\n",
       "      <td>0.0</td>\n",
       "      <td>0.343373</td>\n",
       "      <td>0.256159</td>\n",
       "      <td>0.331195</td>\n",
       "      <td>...</td>\n",
       "      <td>0.174889</td>\n",
       "      <td>0.166603</td>\n",
       "      <td>0.0</td>\n",
       "      <td>0.333333</td>\n",
       "      <td>0.0</td>\n",
       "      <td>0.0</td>\n",
       "      <td>0.573643</td>\n",
       "      <td>0.662386</td>\n",
       "      <td>130</td>\n",
       "      <td>0.00831</td>\n",
       "    </tr>\n",
       "    <tr>\n",
       "      <th>4</th>\n",
       "      <td>4</td>\n",
       "      <td>1</td>\n",
       "      <td>5</td>\n",
       "      <td>0.390805</td>\n",
       "      <td>0.333333</td>\n",
       "      <td>0.0</td>\n",
       "      <td>0.0</td>\n",
       "      <td>0.349398</td>\n",
       "      <td>0.257467</td>\n",
       "      <td>0.404625</td>\n",
       "      <td>...</td>\n",
       "      <td>0.174734</td>\n",
       "      <td>0.402078</td>\n",
       "      <td>0.0</td>\n",
       "      <td>0.416667</td>\n",
       "      <td>0.0</td>\n",
       "      <td>0.0</td>\n",
       "      <td>0.589147</td>\n",
       "      <td>0.704502</td>\n",
       "      <td>130</td>\n",
       "      <td>0.01108</td>\n",
       "    </tr>\n",
       "  </tbody>\n",
       "</table>\n",
       "<p>5 rows × 29 columns</p>\n",
       "</div>"
      ],
      "text/plain": [
       "   Unnamed: 0  id  cycle  setting1  setting2  setting3   s1        s2  \\\n",
       "0           0   1      1  0.459770  0.166667       0.0  0.0  0.183735   \n",
       "1           1   1      2  0.609195  0.250000       0.0  0.0  0.283133   \n",
       "2           2   1      3  0.252874  0.750000       0.0  0.0  0.343373   \n",
       "3           3   1      4  0.540230  0.500000       0.0  0.0  0.343373   \n",
       "4           4   1      5  0.390805  0.333333       0.0  0.0  0.349398   \n",
       "\n",
       "         s3        s4     ...           s14       s15  s16       s17  s18  \\\n",
       "0  0.406802  0.309757     ...      0.199608  0.363986  0.0  0.333333  0.0   \n",
       "1  0.453019  0.352633     ...      0.162813  0.411312  0.0  0.333333  0.0   \n",
       "2  0.369523  0.370527     ...      0.171793  0.357445  0.0  0.166667  0.0   \n",
       "3  0.256159  0.331195     ...      0.174889  0.166603  0.0  0.333333  0.0   \n",
       "4  0.257467  0.404625     ...      0.174734  0.402078  0.0  0.416667  0.0   \n",
       "\n",
       "   s19       s20       s21  RUL  cycle_norm  \n",
       "0  0.0  0.713178  0.724662  130     0.00000  \n",
       "1  0.0  0.666667  0.731014  130     0.00277  \n",
       "2  0.0  0.627907  0.621375  130     0.00554  \n",
       "3  0.0  0.573643  0.662386  130     0.00831  \n",
       "4  0.0  0.589147  0.704502  130     0.01108  \n",
       "\n",
       "[5 rows x 29 columns]"
      ]
     },
     "execution_count": 18,
     "metadata": {},
     "output_type": "execute_result"
    }
   ],
   "source": [
    "train_df.head()"
   ]
  },
  {
   "cell_type": "code",
   "execution_count": 19,
   "metadata": {},
   "outputs": [],
   "source": [
    "X_train = train_df.iloc[0:-1,6:27]\n",
    "y_train = train_df.iloc[0:-1,-2]\n",
    "X_train = np.array(X_train)\n",
    "y_train = np.array(y_train)"
   ]
  },
  {
   "cell_type": "code",
   "execution_count": 20,
   "metadata": {},
   "outputs": [],
   "source": [
    "X_test = test_df.iloc[:,6:27]\n",
    "y_test = test_df.iloc[:,-2]\n",
    "X_test = np.array(X_test)\n",
    "y_test = np.array(y_test)"
   ]
  },
  {
   "cell_type": "code",
   "execution_count": 21,
   "metadata": {},
   "outputs": [
    {
     "name": "stdout",
     "output_type": "stream",
     "text": [
      "(20630, 21) (20630,) (13096, 21) (13096,)\n"
     ]
    }
   ],
   "source": [
    "print(X_train.shape,y_train.shape,X_test.shape,y_test.shape)"
   ]
  },
  {
   "cell_type": "markdown",
   "metadata": {},
   "source": [
    "现在X_train, y_train, X_test, y_test已经准备好了"
   ]
  },
  {
   "cell_type": "markdown",
   "metadata": {},
   "source": [
    "## 模型构建"
   ]
  },
  {
   "cell_type": "code",
   "execution_count": 22,
   "metadata": {},
   "outputs": [
    {
     "name": "stdout",
     "output_type": "stream",
     "text": [
      "(20630, 1, 21) (20630,) (13096, 1, 21) (13096,)\n"
     ]
    }
   ],
   "source": [
    "# 数据改造成LSTM输入的格式\n",
    "X_train = X_train.reshape((X_train.shape[0],1,X_train.shape[1]))\n",
    "X_test = X_test.reshape((X_test.shape[0],1,X_test.shape[1]))\n",
    "print(X_train.shape,y_train.shape,X_test.shape,y_test.shape)"
   ]
  },
  {
   "cell_type": "code",
   "execution_count": 23,
   "metadata": {},
   "outputs": [],
   "source": [
    "model = Sequential()"
   ]
  },
  {
   "cell_type": "code",
   "execution_count": 24,
   "metadata": {},
   "outputs": [],
   "source": [
    "model.add(LSTM(40,input_shape=(X_train.shape[1],X_train.shape[2])))\n",
    "model.add(Dense(1))\n",
    "model.compile(loss='mse',optimizer='adam')"
   ]
  },
  {
   "cell_type": "markdown",
   "metadata": {},
   "source": [
    "## 模型训练"
   ]
  },
  {
   "cell_type": "code",
   "execution_count": 25,
   "metadata": {},
   "outputs": [
    {
     "name": "stdout",
     "output_type": "stream",
     "text": [
      "Train on 20630 samples, validate on 13096 samples\n",
      "Epoch 1/50\n",
      "20630/20630 [==============================] - 2s 114us/step - loss: 9066.8846 - val_loss: 120.7299\n",
      "Epoch 2/50\n",
      "20630/20630 [==============================] - 1s 41us/step - loss: 6995.7491 - val_loss: 464.3924\n",
      "Epoch 3/50\n",
      "20630/20630 [==============================] - 1s 41us/step - loss: 5931.7424 - val_loss: 799.6366\n",
      "Epoch 4/50\n",
      "20630/20630 [==============================] - 1s 41us/step - loss: 5169.9219 - val_loss: 1170.8344\n",
      "Epoch 5/50\n",
      "20630/20630 [==============================] - 1s 38us/step - loss: 4551.5789 - val_loss: 1572.2177\n",
      "Epoch 6/50\n",
      "20630/20630 [==============================] - 1s 40us/step - loss: 4038.9459 - val_loss: 1996.8854\n",
      "Epoch 7/50\n",
      "20630/20630 [==============================] - 1s 41us/step - loss: 3611.7346 - val_loss: 2437.7399\n",
      "Epoch 8/50\n",
      "20630/20630 [==============================] - 1s 40us/step - loss: 3256.4084 - val_loss: 2887.7453\n",
      "Epoch 9/50\n",
      "20630/20630 [==============================] - 1s 42us/step - loss: 2962.6084 - val_loss: 3340.0647\n",
      "Epoch 10/50\n",
      "20630/20630 [==============================] - 1s 41us/step - loss: 2721.7559 - val_loss: 3788.1413\n",
      "Epoch 11/50\n",
      "20630/20630 [==============================] - 1s 40us/step - loss: 2526.4107 - val_loss: 4225.7808\n",
      "Epoch 12/50\n",
      "20630/20630 [==============================] - 1s 40us/step - loss: 2369.9475 - val_loss: 4647.2585\n",
      "Epoch 13/50\n",
      "20630/20630 [==============================] - 1s 40us/step - loss: 2246.3917 - val_loss: 5047.4485\n",
      "Epoch 14/50\n",
      "20630/20630 [==============================] - 1s 41us/step - loss: 2150.3390 - val_loss: 5421.9662\n",
      "Epoch 15/50\n",
      "20630/20630 [==============================] - 1s 40us/step - loss: 2076.9235 - val_loss: 5767.3122\n",
      "Epoch 16/50\n",
      "20630/20630 [==============================] - 1s 41us/step - loss: 2021.8125 - val_loss: 6081.0019\n",
      "Epoch 17/50\n",
      "20630/20630 [==============================] - 1s 40us/step - loss: 1981.2112 - val_loss: 6361.6346\n",
      "Epoch 18/50\n",
      "20630/20630 [==============================] - 1s 41us/step - loss: 1951.8668 - val_loss: 6608.9087\n",
      "Epoch 19/50\n",
      "20630/20630 [==============================] - 1s 41us/step - loss: 1931.0594 - val_loss: 6823.5595\n",
      "Epoch 20/50\n",
      "20630/20630 [==============================] - 1s 40us/step - loss: 1916.5767 - val_loss: 7007.2167\n",
      "Epoch 21/50\n",
      "20630/20630 [==============================] - 1s 40us/step - loss: 1906.6723 - val_loss: 7162.2131\n",
      "Epoch 22/50\n",
      "20630/20630 [==============================] - 1s 40us/step - loss: 1900.0072 - val_loss: 7291.3578\n",
      "Epoch 23/50\n",
      "20630/20630 [==============================] - 1s 39us/step - loss: 1895.5857 - val_loss: 7397.7053\n",
      "Epoch 24/50\n",
      "20630/20630 [==============================] - 1s 39us/step - loss: 1892.6878 - val_loss: 7484.3579\n",
      "Epoch 25/50\n",
      "20630/20630 [==============================] - 1s 40us/step - loss: 1890.8062 - val_loss: 7554.3119\n",
      "Epoch 26/50\n",
      "20630/20630 [==============================] - 1s 41us/step - loss: 1889.5925 - val_loss: 7610.3218\n",
      "Epoch 27/50\n",
      "20630/20630 [==============================] - 1s 40us/step - loss: 1888.8122 - val_loss: 7654.8560\n",
      "Epoch 28/50\n",
      "20630/20630 [==============================] - 1s 41us/step - loss: 1888.3104 - val_loss: 7690.0467\n",
      "Epoch 29/50\n",
      "20630/20630 [==============================] - 1s 41us/step - loss: 1887.9864 - val_loss: 7717.7221\n",
      "Epoch 30/50\n",
      "20630/20630 [==============================] - 1s 40us/step - loss: 1887.7754 - val_loss: 7739.3876\n",
      "Epoch 31/50\n",
      "20630/20630 [==============================] - 1s 39us/step - loss: 1887.6362 - val_loss: 7756.2920\n",
      "Epoch 32/50\n",
      "20630/20630 [==============================] - 1s 40us/step - loss: 1887.5428 - val_loss: 7769.4376\n",
      "Epoch 33/50\n",
      "20630/20630 [==============================] - 1s 40us/step - loss: 1887.4787 - val_loss: 7779.6400\n",
      "Epoch 34/50\n",
      "20630/20630 [==============================] - 1s 41us/step - loss: 1887.4335 - val_loss: 7787.5440\n",
      "Epoch 35/50\n",
      "20630/20630 [==============================] - 1s 40us/step - loss: 1887.4007 - val_loss: 7793.6585\n",
      "Epoch 36/50\n",
      "20630/20630 [==============================] - 1s 41us/step - loss: 1887.3762 - val_loss: 7798.3756\n",
      "Epoch 37/50\n",
      "20630/20630 [==============================] - 1s 40us/step - loss: 1887.3569 - val_loss: 7802.0140\n",
      "Epoch 38/50\n",
      "20630/20630 [==============================] - 1s 40us/step - loss: 1887.3408 - val_loss: 7804.8139\n",
      "Epoch 39/50\n",
      "20630/20630 [==============================] - 1s 40us/step - loss: 1887.3243 - val_loss: 7806.9498\n",
      "Epoch 40/50\n",
      "20630/20630 [==============================] - 1s 40us/step - loss: 1887.2521 - val_loss: 7807.8760\n",
      "Epoch 41/50\n",
      "20630/20630 [==============================] - 1s 40us/step - loss: 1827.4642 - val_loss: 7696.4755\n",
      "Epoch 42/50\n",
      "20630/20630 [==============================] - 1s 39us/step - loss: 1783.5878 - val_loss: 7781.6623\n",
      "Epoch 43/50\n",
      "20630/20630 [==============================] - 1s 40us/step - loss: 1771.3869 - val_loss: 7847.0265\n",
      "Epoch 44/50\n",
      "20630/20630 [==============================] - 1s 39us/step - loss: 1760.8504 - val_loss: 7900.1004\n",
      "Epoch 45/50\n",
      "20630/20630 [==============================] - 1s 40us/step - loss: 1726.5085 - val_loss: 7817.8279\n",
      "Epoch 46/50\n",
      "20630/20630 [==============================] - 1s 39us/step - loss: 1657.2917 - val_loss: 7945.8246\n",
      "Epoch 47/50\n",
      "20630/20630 [==============================] - 1s 40us/step - loss: 1596.8205 - val_loss: 7950.4646\n",
      "Epoch 48/50\n",
      "20630/20630 [==============================] - 1s 41us/step - loss: 1535.8295 - val_loss: 8097.3815\n",
      "Epoch 49/50\n",
      "20630/20630 [==============================] - 1s 41us/step - loss: 1509.7892 - val_loss: 8213.8218\n",
      "Epoch 50/50\n",
      "20630/20630 [==============================] - 1s 40us/step - loss: 1485.9919 - val_loss: 8313.3714\n"
     ]
    }
   ],
   "source": [
    "history = model.fit(\n",
    "    X_train,\n",
    "    y_train,\n",
    "    epochs=50,\n",
    "    batch_size=100,\n",
    "    validation_data=(X_test, y_test),verbose=1,shuffle=False)"
   ]
  },
  {
   "cell_type": "code",
   "execution_count": 26,
   "metadata": {},
   "outputs": [
    {
     "data": {
      "image/png": "[encoded data removed]",
      "text/plain": [
       "<Figure size 1152x432 with 1 Axes>"
      ]
     },
     "metadata": {},
     "output_type": "display_data"
    }
   ],
   "source": [
    "plt.plot(history.history['loss'], label='train')\n",
    "plt.plot(history.history['val_loss'], label='test')\n",
    "plt.rcParams['xtick.color'] = 'w'  \n",
    "plt.rcParams['ytick.color'] = 'w'  \n",
    "plt.legend()\n",
    "plt.show()"
   ]
  }
 ],
 "metadata": {
  "kernelspec": {
   "display_name": "Python 3",
   "language": "python",
   "name": "python3"
  },
  "language_info": {
   "codemirror_mode": {
    "name": "ipython",
    "version": 3
   },
   "file_extension": ".py",
   "mimetype": "text/x-python",
   "name": "python",
   "nbconvert_exporter": "python",
   "pygments_lexer": "ipython3",
   "version": "3.6.5"
  },
  "toc": {
   "base_numbering": 1,
   "nav_menu": {},
   "number_sections": true,
   "sideBar": true,
   "skip_h1_title": false,
   "title_cell": "Table of Contents",
   "title_sidebar": "Contents",
   "toc_cell": false,
   "toc_position": {
    "height": "689px",
    "left": "25px",
    "top": "180px",
    "width": "212px"
   },
   "toc_section_display": true,
   "toc_window_display": false
  },
  "varInspector": {
   "cols": {
    "lenName": 16,
    "lenType": 16,
    "lenVar": 40
   },
   "kernels_config": {
    "python": {
     "delete_cmd_postfix": "",
     "delete_cmd_prefix": "del ",
     "library": "var_list.py",
     "varRefreshCmd": "print(var_dic_list())"
    },
    "r": {
     "delete_cmd_postfix": ") ",
     "delete_cmd_prefix": "rm(",
     "library": "var_list.r",
     "varRefreshCmd": "cat(var_dic_list()) "
    }
   },
   "types_to_exclude": [
    "module",
    "function",
    "builtin_function_or_method",
    "instance",
    "_Feature"
   ],
   "window_display": false
  }
 },
 "nbformat": 4,
 "nbformat_minor": 2
}
