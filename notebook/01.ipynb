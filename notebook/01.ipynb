{
 "cells": [
  {
   "cell_type": "code",
   "execution_count": 1,
   "metadata": {},
   "outputs": [
    {
     "name": "stderr",
     "output_type": "stream",
     "text": [
      "/root/anaconda3/lib/python3.6/site-packages/h5py/__init__.py:36: FutureWarning: Conversion of the second argument of issubdtype from `float` to `np.floating` is deprecated. In future, it will be treated as `np.float64 == np.dtype(float).type`.\n",
      "  from ._conv import register_converters as _register_converters\n",
      "Using TensorFlow backend.\n"
     ]
    }
   ],
   "source": [
    "import numpy as np\n",
    "import pandas as pd\n",
    "import matplotlib.pyplot as plt\n",
    "import matplotlib as mpl\n",
    "import tensorflow as tf\n",
    "from keras.models import Sequential\n",
    "from keras.layers import Dense,Flatten,LSTM,Dropout\n",
    "import time"
   ]
  },
  {
   "cell_type": "code",
   "execution_count": 2,
   "metadata": {},
   "outputs": [],
   "source": [
    "#matplotlib inline\n",
    "plt.rcParams['figure.figsize'] = 16,6\n",
    "plt.rcParams['xtick.color'] = 'w'  \n",
    "plt.rcParams['ytick.color'] = 'w'  \n",
    "mpl.style.use('ggplot')"
   ]
  },
  {
   "cell_type": "markdown",
   "metadata": {},
   "source": [
    "## 数据导入和处理"
   ]
  },
  {
   "cell_type": "code",
   "execution_count": 3,
   "metadata": {},
   "outputs": [],
   "source": [
    "train_df_path = r'../data/processed_data/train_df.csv'\n",
    "test_df_path = r'../data/processed_data/test_df.csv'"
   ]
  },
  {
   "cell_type": "code",
   "execution_count": 4,
   "metadata": {},
   "outputs": [],
   "source": [
    "train_df = pd.read_csv(train_df_path)\n",
    "test_df = pd.read_csv(test_df_path)"
   ]
  },
  {
   "cell_type": "code",
   "execution_count": 5,
   "metadata": {},
   "outputs": [
    {
     "data": {
      "text/html": [
       "<div>\n",
       "<style scoped>\n",
       "    .dataframe tbody tr th:only-of-type {\n",
       "        vertical-align: middle;\n",
       "    }\n",
       "\n",
       "    .dataframe tbody tr th {\n",
       "        vertical-align: top;\n",
       "    }\n",
       "\n",
       "    .dataframe thead th {\n",
       "        text-align: right;\n",
       "    }\n",
       "</style>\n",
       "<table border=\"1\" class=\"dataframe\">\n",
       "  <thead>\n",
       "    <tr style=\"text-align: right;\">\n",
       "      <th></th>\n",
       "      <th>Unnamed: 0</th>\n",
       "      <th>id</th>\n",
       "      <th>cycle</th>\n",
       "      <th>setting1</th>\n",
       "      <th>setting2</th>\n",
       "      <th>setting3</th>\n",
       "      <th>s1</th>\n",
       "      <th>s2</th>\n",
       "      <th>s3</th>\n",
       "      <th>s4</th>\n",
       "      <th>...</th>\n",
       "      <th>s14</th>\n",
       "      <th>s15</th>\n",
       "      <th>s16</th>\n",
       "      <th>s17</th>\n",
       "      <th>s18</th>\n",
       "      <th>s19</th>\n",
       "      <th>s20</th>\n",
       "      <th>s21</th>\n",
       "      <th>RUL</th>\n",
       "      <th>cycle_norm</th>\n",
       "    </tr>\n",
       "  </thead>\n",
       "  <tbody>\n",
       "    <tr>\n",
       "      <th>0</th>\n",
       "      <td>0</td>\n",
       "      <td>1</td>\n",
       "      <td>1</td>\n",
       "      <td>0.459770</td>\n",
       "      <td>0.166667</td>\n",
       "      <td>0.0</td>\n",
       "      <td>0.0</td>\n",
       "      <td>0.183735</td>\n",
       "      <td>0.406802</td>\n",
       "      <td>0.309757</td>\n",
       "      <td>...</td>\n",
       "      <td>0.199608</td>\n",
       "      <td>0.363986</td>\n",
       "      <td>0.0</td>\n",
       "      <td>0.333333</td>\n",
       "      <td>0.0</td>\n",
       "      <td>0.0</td>\n",
       "      <td>0.713178</td>\n",
       "      <td>0.724662</td>\n",
       "      <td>130</td>\n",
       "      <td>0.00000</td>\n",
       "    </tr>\n",
       "    <tr>\n",
       "      <th>1</th>\n",
       "      <td>1</td>\n",
       "      <td>1</td>\n",
       "      <td>2</td>\n",
       "      <td>0.609195</td>\n",
       "      <td>0.250000</td>\n",
       "      <td>0.0</td>\n",
       "      <td>0.0</td>\n",
       "      <td>0.283133</td>\n",
       "      <td>0.453019</td>\n",
       "      <td>0.352633</td>\n",
       "      <td>...</td>\n",
       "      <td>0.162813</td>\n",
       "      <td>0.411312</td>\n",
       "      <td>0.0</td>\n",
       "      <td>0.333333</td>\n",
       "      <td>0.0</td>\n",
       "      <td>0.0</td>\n",
       "      <td>0.666667</td>\n",
       "      <td>0.731014</td>\n",
       "      <td>130</td>\n",
       "      <td>0.00277</td>\n",
       "    </tr>\n",
       "    <tr>\n",
       "      <th>2</th>\n",
       "      <td>2</td>\n",
       "      <td>1</td>\n",
       "      <td>3</td>\n",
       "      <td>0.252874</td>\n",
       "      <td>0.750000</td>\n",
       "      <td>0.0</td>\n",
       "      <td>0.0</td>\n",
       "      <td>0.343373</td>\n",
       "      <td>0.369523</td>\n",
       "      <td>0.370527</td>\n",
       "      <td>...</td>\n",
       "      <td>0.171793</td>\n",
       "      <td>0.357445</td>\n",
       "      <td>0.0</td>\n",
       "      <td>0.166667</td>\n",
       "      <td>0.0</td>\n",
       "      <td>0.0</td>\n",
       "      <td>0.627907</td>\n",
       "      <td>0.621375</td>\n",
       "      <td>130</td>\n",
       "      <td>0.00554</td>\n",
       "    </tr>\n",
       "    <tr>\n",
       "      <th>3</th>\n",
       "      <td>3</td>\n",
       "      <td>1</td>\n",
       "      <td>4</td>\n",
       "      <td>0.540230</td>\n",
       "      <td>0.500000</td>\n",
       "      <td>0.0</td>\n",
       "      <td>0.0</td>\n",
       "      <td>0.343373</td>\n",
       "      <td>0.256159</td>\n",
       "      <td>0.331195</td>\n",
       "      <td>...</td>\n",
       "      <td>0.174889</td>\n",
       "      <td>0.166603</td>\n",
       "      <td>0.0</td>\n",
       "      <td>0.333333</td>\n",
       "      <td>0.0</td>\n",
       "      <td>0.0</td>\n",
       "      <td>0.573643</td>\n",
       "      <td>0.662386</td>\n",
       "      <td>130</td>\n",
       "      <td>0.00831</td>\n",
       "    </tr>\n",
       "    <tr>\n",
       "      <th>4</th>\n",
       "      <td>4</td>\n",
       "      <td>1</td>\n",
       "      <td>5</td>\n",
       "      <td>0.390805</td>\n",
       "      <td>0.333333</td>\n",
       "      <td>0.0</td>\n",
       "      <td>0.0</td>\n",
       "      <td>0.349398</td>\n",
       "      <td>0.257467</td>\n",
       "      <td>0.404625</td>\n",
       "      <td>...</td>\n",
       "      <td>0.174734</td>\n",
       "      <td>0.402078</td>\n",
       "      <td>0.0</td>\n",
       "      <td>0.416667</td>\n",
       "      <td>0.0</td>\n",
       "      <td>0.0</td>\n",
       "      <td>0.589147</td>\n",
       "      <td>0.704502</td>\n",
       "      <td>130</td>\n",
       "      <td>0.01108</td>\n",
       "    </tr>\n",
       "  </tbody>\n",
       "</table>\n",
       "<p>5 rows × 29 columns</p>\n",
       "</div>"
      ],
      "text/plain": [
       "   Unnamed: 0  id  cycle  setting1  setting2  setting3   s1        s2  \\\n",
       "0           0   1      1  0.459770  0.166667       0.0  0.0  0.183735   \n",
       "1           1   1      2  0.609195  0.250000       0.0  0.0  0.283133   \n",
       "2           2   1      3  0.252874  0.750000       0.0  0.0  0.343373   \n",
       "3           3   1      4  0.540230  0.500000       0.0  0.0  0.343373   \n",
       "4           4   1      5  0.390805  0.333333       0.0  0.0  0.349398   \n",
       "\n",
       "         s3        s4     ...           s14       s15  s16       s17  s18  \\\n",
       "0  0.406802  0.309757     ...      0.199608  0.363986  0.0  0.333333  0.0   \n",
       "1  0.453019  0.352633     ...      0.162813  0.411312  0.0  0.333333  0.0   \n",
       "2  0.369523  0.370527     ...      0.171793  0.357445  0.0  0.166667  0.0   \n",
       "3  0.256159  0.331195     ...      0.174889  0.166603  0.0  0.333333  0.0   \n",
       "4  0.257467  0.404625     ...      0.174734  0.402078  0.0  0.416667  0.0   \n",
       "\n",
       "   s19       s20       s21  RUL  cycle_norm  \n",
       "0  0.0  0.713178  0.724662  130     0.00000  \n",
       "1  0.0  0.666667  0.731014  130     0.00277  \n",
       "2  0.0  0.627907  0.621375  130     0.00554  \n",
       "3  0.0  0.573643  0.662386  130     0.00831  \n",
       "4  0.0  0.589147  0.704502  130     0.01108  \n",
       "\n",
       "[5 rows x 29 columns]"
      ]
     },
     "execution_count": 5,
     "metadata": {},
     "output_type": "execute_result"
    }
   ],
   "source": [
    "train_df.head()"
   ]
  },
  {
   "cell_type": "code",
   "execution_count": 6,
   "metadata": {},
   "outputs": [],
   "source": [
    "X_train = train_df.iloc[0:-1,6:27]\n",
    "y_train = train_df.iloc[0:-1,-2]\n",
    "X_train = np.array(X_train)\n",
    "y_train = np.array(y_train)"
   ]
  },
  {
   "cell_type": "code",
   "execution_count": 7,
   "metadata": {},
   "outputs": [],
   "source": [
    "X_test = test_df.iloc[:,6:27]\n",
    "y_test = test_df.iloc[:,-2]\n",
    "X_test = np.array(X_test)\n",
    "y_test = np.array(y_test)"
   ]
  },
  {
   "cell_type": "code",
   "execution_count": 8,
   "metadata": {},
   "outputs": [
    {
     "name": "stdout",
     "output_type": "stream",
     "text": [
      "(20630, 21) (20630,) (13096, 21) (13096,)\n"
     ]
    }
   ],
   "source": [
    "print(X_train.shape,y_train.shape,X_test.shape,y_test.shape)"
   ]
  },
  {
   "cell_type": "markdown",
   "metadata": {},
   "source": [
    "现在X_train, y_train, X_test, y_test已经准备好了"
   ]
  },
  {
   "cell_type": "markdown",
   "metadata": {},
   "source": [
    "## 模型构建"
   ]
  },
  {
   "cell_type": "code",
   "execution_count": 9,
   "metadata": {},
   "outputs": [
    {
     "name": "stdout",
     "output_type": "stream",
     "text": [
      "(20630, 1, 21) (20630,) (13096, 1, 21) (13096,)\n"
     ]
    }
   ],
   "source": [
    "# 数据改造成LSTM输入的格式\n",
    "X_train = X_train.reshape((X_train.shape[0],1,X_train.shape[1]))\n",
    "X_test = X_test.reshape((X_test.shape[0],1,X_test.shape[1]))\n",
    "print(X_train.shape,y_train.shape,X_test.shape,y_test.shape)"
   ]
  },
  {
   "cell_type": "code",
   "execution_count": 10,
   "metadata": {},
   "outputs": [],
   "source": [
    "model = Sequential()"
   ]
  },
  {
   "cell_type": "code",
   "execution_count": 11,
   "metadata": {},
   "outputs": [],
   "source": [
    "model.add(LSTM(40,input_shape=(X_train.shape[1],X_train.shape[2])))\n",
    "model.add(Dense(1))\n",
    "model.compile(loss='mse',optimizer='adam')"
   ]
  },
  {
   "cell_type": "markdown",
   "metadata": {},
   "source": [
    "## 模型训练"
   ]
  },
  {
   "cell_type": "code",
   "execution_count": 12,
   "metadata": {},
   "outputs": [
    {
     "name": "stdout",
     "output_type": "stream",
     "text": [
      "Train on 20630 samples, validate on 13096 samples\n",
      "Epoch 1/50\n",
      "20630/20630 [==============================] - 2s 110us/step - loss: 9079.5674 - val_loss: 119.8846\n",
      "Epoch 2/50\n",
      "20630/20630 [==============================] - 1s 39us/step - loss: 6957.9675 - val_loss: 487.6403\n",
      "Epoch 3/50\n",
      "20630/20630 [==============================] - 1s 39us/step - loss: 5858.2753 - val_loss: 834.8654\n",
      "Epoch 4/50\n",
      "20630/20630 [==============================] - 1s 39us/step - loss: 5098.0713 - val_loss: 1215.3297\n",
      "Epoch 5/50\n",
      "20630/20630 [==============================] - 1s 39us/step - loss: 4485.1705 - val_loss: 1624.2949\n",
      "Epoch 6/50\n",
      "20630/20630 [==============================] - 1s 39us/step - loss: 3979.2466 - val_loss: 2055.0552\n",
      "Epoch 7/50\n",
      "20630/20630 [==============================] - 1s 40us/step - loss: 3559.1081 - val_loss: 2500.6252\n",
      "Epoch 8/50\n",
      "20630/20630 [==============================] - 1s 40us/step - loss: 3210.7778 - val_loss: 2954.0028\n",
      "Epoch 9/50\n",
      "20630/20630 [==============================] - 1s 39us/step - loss: 2923.6628 - val_loss: 3408.3702\n",
      "Epoch 10/50\n",
      "20630/20630 [==============================] - 1s 37us/step - loss: 2689.0420 - val_loss: 3857.1962\n",
      "Epoch 11/50\n",
      "20630/20630 [==============================] - 1s 38us/step - loss: 2499.3815 - val_loss: 4294.3344\n",
      "Epoch 12/50\n",
      "20630/20630 [==============================] - 1s 39us/step - loss: 2348.0002 - val_loss: 4714.1305\n",
      "Epoch 13/50\n",
      "20630/20630 [==============================] - 1s 39us/step - loss: 2228.8951 - val_loss: 5111.5655\n",
      "Epoch 14/50\n",
      "20630/20630 [==============================] - 1s 39us/step - loss: 2136.6574 - val_loss: 5482.3973\n",
      "Epoch 15/50\n",
      "20630/20630 [==============================] - 1s 40us/step - loss: 2066.4391 - val_loss: 5823.3050\n",
      "Epoch 16/50\n",
      "20630/20630 [==============================] - 1s 40us/step - loss: 2013.9444 - val_loss: 6132.0040\n",
      "Epoch 17/50\n",
      "20630/20630 [==============================] - 1s 39us/step - loss: 1975.4316 - val_loss: 6407.3104\n",
      "Epoch 18/50\n",
      "20630/20630 [==============================] - 1s 39us/step - loss: 1947.7119 - val_loss: 6649.1453\n",
      "Epoch 19/50\n",
      "20630/20630 [==============================] - 1s 39us/step - loss: 1928.1357 - val_loss: 6858.4402\n",
      "Epoch 20/50\n",
      "20630/20630 [==============================] - 1s 38us/step - loss: 1914.5623 - val_loss: 7036.9982\n",
      "Epoch 21/50\n",
      "20630/20630 [==============================] - 1s 39us/step - loss: 1905.3122 - val_loss: 7187.2835\n",
      "Epoch 22/50\n",
      "20630/20630 [==============================] - 1s 40us/step - loss: 1899.1070 - val_loss: 7312.1872\n",
      "Epoch 23/50\n",
      "20630/20630 [==============================] - 1s 39us/step - loss: 1895.0013 - val_loss: 7414.8110\n",
      "Epoch 24/50\n",
      "20630/20630 [==============================] - 1s 39us/step - loss: 1892.3157 - val_loss: 7498.2619\n",
      "Epoch 25/50\n",
      "20630/20630 [==============================] - 1s 39us/step - loss: 1890.5742 - val_loss: 7565.5088\n",
      "Epoch 26/50\n",
      "20630/20630 [==============================] - 1s 39us/step - loss: 1889.4514 - val_loss: 7619.2673\n",
      "Epoch 27/50\n",
      "20630/20630 [==============================] - 1s 38us/step - loss: 1888.7291 - val_loss: 7661.9554\n",
      "Epoch 28/50\n",
      "20630/20630 [==============================] - 1s 40us/step - loss: 1888.2638 - val_loss: 7695.6486\n",
      "Epoch 29/50\n",
      "20630/20630 [==============================] - 1s 39us/step - loss: 1887.9623 - val_loss: 7722.1196\n",
      "Epoch 30/50\n",
      "20630/20630 [==============================] - 1s 39us/step - loss: 1887.7649 - val_loss: 7742.8288\n",
      "Epoch 31/50\n",
      "20630/20630 [==============================] - 1s 39us/step - loss: 1887.6338 - val_loss: 7758.9721\n",
      "Epoch 32/50\n",
      "20630/20630 [==============================] - 1s 39us/step - loss: 1887.5450 - val_loss: 7771.5249\n",
      "Epoch 33/50\n",
      "20630/20630 [==============================] - 1s 40us/step - loss: 1887.4832 - val_loss: 7781.2578\n",
      "Epoch 34/50\n",
      "20630/20630 [==============================] - 1s 40us/step - loss: 1887.4388 - val_loss: 7788.7946\n",
      "Epoch 35/50\n",
      "20630/20630 [==============================] - 1s 38us/step - loss: 1887.4054 - val_loss: 7794.6192\n",
      "Epoch 36/50\n",
      "20630/20630 [==============================] - 1s 39us/step - loss: 1887.3779 - val_loss: 7799.0987\n",
      "Epoch 37/50\n",
      "20630/20630 [==============================] - 1s 38us/step - loss: 1887.3435 - val_loss: 7802.4621\n",
      "Epoch 38/50\n",
      "20630/20630 [==============================] - 1s 38us/step - loss: 1856.1307 - val_loss: 7659.9425\n",
      "Epoch 39/50\n",
      "20630/20630 [==============================] - 1s 38us/step - loss: 1763.0227 - val_loss: 7637.8481\n",
      "Epoch 40/50\n",
      "20630/20630 [==============================] - 1s 39us/step - loss: 1688.5215 - val_loss: 7791.9250\n",
      "Epoch 41/50\n",
      "20630/20630 [==============================] - 1s 39us/step - loss: 1665.7117 - val_loss: 7906.0558\n",
      "Epoch 42/50\n",
      "20630/20630 [==============================] - 1s 38us/step - loss: 1646.1266 - val_loss: 8000.6164\n",
      "Epoch 43/50\n",
      "20630/20630 [==============================] - 1s 39us/step - loss: 1628.1444 - val_loss: 8080.1176\n",
      "Epoch 44/50\n",
      "20630/20630 [==============================] - 1s 39us/step - loss: 1611.1397 - val_loss: 8147.7741\n",
      "Epoch 45/50\n",
      "20630/20630 [==============================] - 1s 39us/step - loss: 1594.7910 - val_loss: 8206.0621\n",
      "Epoch 46/50\n",
      "20630/20630 [==============================] - 1s 39us/step - loss: 1578.9138 - val_loss: 8256.9485\n",
      "Epoch 47/50\n",
      "20630/20630 [==============================] - 1s 39us/step - loss: 1563.3955 - val_loss: 8301.9746\n",
      "Epoch 48/50\n",
      "20630/20630 [==============================] - 1s 39us/step - loss: 1548.1644 - val_loss: 8342.3795\n",
      "Epoch 49/50\n",
      "20630/20630 [==============================] - 1s 39us/step - loss: 1533.1734 - val_loss: 8379.1432\n",
      "Epoch 50/50\n",
      "20630/20630 [==============================] - 1s 39us/step - loss: 1518.3898 - val_loss: 8413.0321\n",
      "Training time: 1.673 minutes\n"
     ]
    }
   ],
   "source": [
    "start_time = time.clock()\n",
    "history = model.fit(\n",
    "    X_train,\n",
    "    y_train,\n",
    "    epochs=50,\n",
    "    batch_size=100,\n",
    "    validation_data=(X_test, y_test),verbose=1,shuffle=False)\n",
    "end_time = time.clock()\n",
    "print(\"Training time: {:.4} minutes\".format((end_time-start_time)/60))"
   ]
  },
  {
   "cell_type": "code",
   "execution_count": 13,
   "metadata": {},
   "outputs": [
    {
     "data": {
      "image/png": "[encoded data removed]",
      "text/plain": [
       "<Figure size 1152x432 with 1 Axes>"
      ]
     },
     "metadata": {},
     "output_type": "display_data"
    }
   ],
   "source": [
    "plt.plot(history.history['loss'], label='train')\n",
    "plt.plot(history.history['val_loss'], label='test') \n",
    "plt.legend()  \n",
    "plt.show()"
   ]
  }
 ],
 "metadata": {
  "kernelspec": {
   "display_name": "Python 3",
   "language": "python",
   "name": "python3"
  },
  "language_info": {
   "codemirror_mode": {
    "name": "ipython",
    "version": 3
   },
   "file_extension": ".py",
   "mimetype": "text/x-python",
   "name": "python",
   "nbconvert_exporter": "python",
   "pygments_lexer": "ipython3",
   "version": "3.6.5"
  },
  "toc": {
   "base_numbering": 1,
   "nav_menu": {},
   "number_sections": true,
   "sideBar": true,
   "skip_h1_title": false,
   "title_cell": "Table of Contents",
   "title_sidebar": "Contents",
   "toc_cell": false,
   "toc_position": {
    "height": "689px",
    "left": "25px",
    "top": "180px",
    "width": "212px"
   },
   "toc_section_display": true,
   "toc_window_display": false
  },
  "varInspector": {
   "cols": {
    "lenName": 16,
    "lenType": 16,
    "lenVar": 40
   },
   "kernels_config": {
    "python": {
     "delete_cmd_postfix": "",
     "delete_cmd_prefix": "del ",
     "library": "var_list.py",
     "varRefreshCmd": "print(var_dic_list())"
    },
    "r": {
     "delete_cmd_postfix": ") ",
     "delete_cmd_prefix": "rm(",
     "library": "var_list.r",
     "varRefreshCmd": "cat(var_dic_list()) "
    }
   },
   "types_to_exclude": [
    "module",
    "function",
    "builtin_function_or_method",
    "instance",
    "_Feature"
   ],
   "window_display": false
  }
 },
 "nbformat": 4,
 "nbformat_minor": 2
}
